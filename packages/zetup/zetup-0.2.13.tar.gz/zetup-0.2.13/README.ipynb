{
 "cells": [
  {
   "cell_type": "markdown",
   "metadata": {},
   "source": [
    "# zetup.py"
   ]
  },
  {
   "cell_type": "markdown",
   "metadata": {},
   "source": [
    "[![](http://www.gnu.org/graphics/lgplv3-88x31.png)](\n",
    "  http://www.gnu.org/licenses/lgpl.html)\n",
    "[![](https://pypip.in/version/zetup/badge.svg)](\n",
    "  https://pypi.python.org/pypi/zetup)\n",
    "[![](https://pypip.in/py_versions/zetup/badge.svg)](\n",
    "  https://pypi.python.org/pypi/zetup)\n",
    "[![](https://travis-ci.org/userzimmermann/zetup.py.svg?branch=master)](\n",
    "  https://travis-ci.org/userzimmermann/zetup.py)"
   ]
  },
  {
   "cell_type": "markdown",
   "metadata": {},
   "source": [
    "## Zimmermann's [Python](http://python.org) package setup"
   ]
  },
  {
   "cell_type": "markdown",
   "metadata": {},
   "source": [
    "* https://bitbucket.org/userzimmermann/zetup.py\n",
    "* https://github.com/userzimmermann/zetup.py\n",
    "* https://www.openhub.net/p/python-zetup"
   ]
  }
 ],
 "metadata": {
  "kernelspec": {
   "display_name": "Python 2",
   "language": "python",
   "name": "python2"
  },
  "language_info": {
   "codemirror_mode": {
    "name": "ipython",
    "version": 2
   },
   "file_extension": ".py",
   "mimetype": "text/x-python",
   "name": "python",
   "nbconvert_exporter": "python",
   "pygments_lexer": "ipython2",
   "version": "2.7.8"
  }
 },
 "nbformat": 4,
 "nbformat_minor": 0
}
