{
 "cells": [
  {
   "cell_type": "markdown",
   "metadata": {},
   "source": [
    "# Zetup"
   ]
  },
  {
   "cell_type": "markdown",
   "metadata": {},
   "source": [
    "[![](http://www.gnu.org/graphics/lgplv3-88x31.png)](\n",
    "  https://gnu.org/licenses/lgpl.html)\n",
    "[![](https://pypip.in/version/zetup/badge.svg)](\n",
    "  https://pypi.python.org/pypi/zetup)\n",
    "[![](https://pypip.in/py_versions/zetup/badge.svg)](\n",
    "  https://python.org)\n",
    "[![](https://travis-ci.org/userzimmermann/zetup.py.svg?branch=master)](\n",
    "  https://travis-ci.org/userzimmermann/zetup.py)\n",
    "[![Build status](https://ci.appveyor.com/api/projects/status/3wm8jnisoft5x7qr?svg=true)](\n",
    "  https://ci.appveyor.com/project/userzimmermann/zetup-py)"
   ]
  },
  {
   "cell_type": "markdown",
   "metadata": {},
   "source": [
    "## Zimmermann's Python Package Setup"
   ]
  },
  {
   "cell_type": "markdown",
   "metadata": {},
   "source": [
    "* https://bitbucket.org/userzimmermann/zetup.py\n",
    "* https://github.com/userzimmermann/zetup.py\n",
    "* https://www.openhub.net/p/python-zetup"
   ]
  }
 ],
 "metadata": {
  "kernelspec": {
   "display_name": "Python 3",
   "language": "python",
   "name": "python3"
  },
  "language_info": {
   "codemirror_mode": {
    "name": "ipython",
    "version": 3
   },
   "file_extension": ".py",
   "mimetype": "text/x-python",
   "name": "python",
   "nbconvert_exporter": "python",
   "pygments_lexer": "ipython3",
   "version": "3.4.3"
  }
 },
 "nbformat": 4,
 "nbformat_minor": 0
}
