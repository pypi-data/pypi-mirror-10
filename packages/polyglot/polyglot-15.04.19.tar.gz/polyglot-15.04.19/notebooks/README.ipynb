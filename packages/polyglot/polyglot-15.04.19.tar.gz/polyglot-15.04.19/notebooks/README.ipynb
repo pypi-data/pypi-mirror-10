{
 "cells": [
  {
   "cell_type": "markdown",
   "metadata": {},
   "source": [
    "polyglot\n",
    "==============================="
   ]
  },
  {
   "cell_type": "markdown",
   "metadata": {},
   "source": [
    "[![Downloads](https://pypip.in/download/polyglot/badge.svg \"Downloads\")](https://pypi.python.org/pypi/polyglot)\n",
    "[![Latest Version](https://pypip.in/version/polyglot/badge.svg \"Downloads\")](https://pypi.python.org/pypi/polyglot)\n",
    "[![Supported Python versions](https://pypip.in/py_versions/polyglot/badge.svg \"Supported Python versions\")]( https://pypi.python.org/pypi/polyglot/)\n",
    "[![Development Status]( https://pypip.in/status/polyglot/badge.svg \"Development Status\")](https://pypi.python.org/pypi/polyglot/)\n",
    "[![Download Format](https://pypip.in/format/polyglot/badge.svg \"Download Format\")](https://pypi.python.org/pypi/polyglot)\n",
    "[![Build Status](https://travis-ci.org/aboSamoor/polyglot.png?branch=master \"Build Status\")](https://travis-ci.org/aboSamoor/polyglot)\n",
    "[![Documentation Status](https://readthedocs.org/projects/polyglot/badge/?version=latest \"Documentation Status\")](https://readthedocs.org/builds/polyglot/)"
   ]
  },
  {
   "cell_type": "markdown",
   "metadata": {},
   "source": [
    "Polyglot is a natural language pipeline that supports massive multilingual applications.\n",
    "\n",
    "* Free software: GPLv3 license\n",
    "* Documentation: http://polyglot.readthedocs.org.\n",
    "\n",
    "###Features\n",
    "\n",
    "\n",
    "* Tokenization (165 Languages)\n",
    "* Language detection (196 Languages)\n",
    "* Named Entity Recognition (40 Languages)\n",
    "* Sentiment Analysis (136 Languages)\n",
    "* Word Embeddings (137 Languages)\n",
    "* Morphological analysis (135 Languages)\n",
    "* Transliteration (69 Languages)"
   ]
  },
  {
   "cell_type": "markdown",
   "metadata": {},
   "source": [
    "### Developer\n",
    "\n",
    "* Rami Al-Rfou @ `rmyeid gmail com`"
   ]
  },
  {
   "cell_type": "markdown",
   "metadata": {},
   "source": [
    "\n",
    "## Qiuck Tutorial"
   ]
  },
  {
   "cell_type": "code",
   "execution_count": 47,
   "metadata": {
    "collapsed": false
   },
   "outputs": [],
   "source": [
    "import polyglot\n",
    "from polyglot.text import Text"
   ]
  },
  {
   "cell_type": "markdown",
   "metadata": {},
   "source": [
    "### Language Detection"
   ]
  },
  {
   "cell_type": "code",
   "execution_count": 48,
   "metadata": {
    "collapsed": false
   },
   "outputs": [
    {
     "name": "stdout",
     "output_type": "stream",
     "text": [
      "Language Detected: Code=fr, Name=French\n",
      "\n"
     ]
    }
   ],
   "source": [
    "text = Text(\"Bonjour, Mesdames.\")\n",
    "print(\"Language Detected: Code={}, Name={}\\n\".format(text.language.code, text.language.name))"
   ]
  },
  {
   "cell_type": "markdown",
   "metadata": {},
   "source": [
    "### Tokenization"
   ]
  },
  {
   "cell_type": "code",
   "execution_count": 49,
   "metadata": {
    "collapsed": false
   },
   "outputs": [
    {
     "name": "stdout",
     "output_type": "stream",
     "text": [
      "[u'Beautiful', u'is', u'better', u'than', u'ugly', u'.', u'Explicit', u'is', u'better', u'than', u'implicit', u'.', u'Simple', u'is', u'better', u'than', u'complex', u'.']\n"
     ]
    }
   ],
   "source": [
    "zen = Text(\"Beautiful is better than ugly. \"\n",
    "           \"Explicit is better than implicit. \"\n",
    "           \"Simple is better than complex.\")\n",
    "print(zen.words)"
   ]
  },
  {
   "cell_type": "code",
   "execution_count": 50,
   "metadata": {
    "collapsed": false,
    "scrolled": true
   },
   "outputs": [
    {
     "name": "stdout",
     "output_type": "stream",
     "text": [
      "[Sentence(\"Beautiful is better than ugly.\"), Sentence(\"Explicit is better than implicit.\"), Sentence(\"Simple is better than complex.\")]\n"
     ]
    }
   ],
   "source": [
    "print(zen.sentences)"
   ]
  },
  {
   "cell_type": "markdown",
   "metadata": {},
   "source": [
    "### Part of Speech Tagging"
   ]
  },
  {
   "cell_type": "code",
   "execution_count": 51,
   "metadata": {
    "collapsed": false
   },
   "outputs": [
    {
     "name": "stdout",
     "output_type": "stream",
     "text": [
      "Word            POS Tag\n",
      "------------------------------\n",
      "O               PART\n",
      "primeiro        SCONJ\n",
      "uso             PART\n",
      "de              ADP\n",
      "desobediência   PART\n",
      "civil           SCONJ\n",
      "em              ADP\n",
      "massa           PART\n",
      "ocorreu         SCONJ\n",
      "em              ADP\n",
      "setembro        PART\n",
      "de              ADP\n",
      "1906            DET\n",
      ".               ADV\n"
     ]
    }
   ],
   "source": [
    "text = Text(u\"O primeiro uso de desobediência civil em massa ocorreu em setembro de 1906.\")\n",
    "\n",
    "print(\"{:<16}{}\".format(\"Word\", \"POS Tag\")+\"\\n\"+\"-\"*30)\n",
    "for word, tag in text.pos_tags:\n",
    "    print(u\"{:<16}{:>2}\".format(word, tag))"
   ]
  },
  {
   "cell_type": "markdown",
   "metadata": {},
   "source": [
    "### Named Entity Recognition"
   ]
  },
  {
   "cell_type": "code",
   "execution_count": 52,
   "metadata": {
    "collapsed": false
   },
   "outputs": [
    {
     "name": "stdout",
     "output_type": "stream",
     "text": [
      "[I-LOC([u'Gro\\xdfbritannien']), I-PER([u'Gandhi'])]\n"
     ]
    }
   ],
   "source": [
    "text = Text(u\"In Großbritannien war Gandhi mit dem westlichen Lebensstil vertraut geworden\")\n",
    "print(text.entities)"
   ]
  },
  {
   "cell_type": "markdown",
   "metadata": {},
   "source": [
    "### Polarity"
   ]
  },
  {
   "cell_type": "code",
   "execution_count": 53,
   "metadata": {
    "collapsed": false
   },
   "outputs": [
    {
     "name": "stdout",
     "output_type": "stream",
     "text": [
      "Word            Polarity\n",
      "------------------------------\n",
      "Beautiful        0\n",
      "is               0\n",
      "better           1\n",
      "than             0\n",
      "ugly            -1\n",
      ".                0\n"
     ]
    }
   ],
   "source": [
    "print(\"{:<16}{}\".format(\"Word\", \"Polarity\")+\"\\n\"+\"-\"*30)\n",
    "for w in zen.words[:6]:\n",
    "    print(\"{:<16}{:>2}\".format(w, w.polarity))"
   ]
  },
  {
   "cell_type": "markdown",
   "metadata": {},
   "source": [
    "### Embeddings"
   ]
  },
  {
   "cell_type": "code",
   "execution_count": 54,
   "metadata": {
    "collapsed": false
   },
   "outputs": [
    {
     "name": "stdout",
     "output_type": "stream",
     "text": [
      "[-0.08001513 -0.35475096  0.27702546 -0.20423636  0.36313248  0.06376412\n",
      "  0.0444247  -0.30489922  0.014972    0.13951094  0.07515849 -0.2703914\n",
      "  0.04650182  0.58747977  0.5101701  -0.04114699  0.37434807 -0.27707747\n",
      " -0.06124159  0.21493433 -0.23498166  0.07404013 -0.23953673 -0.15044802\n",
      "  0.21210277 -0.58776855  0.12014424  0.30591646  0.07079886  0.44168213\n",
      "  0.2473582  -0.43409103 -0.25516582  0.45812422  0.33660468  0.61951864\n",
      "  0.16038296 -0.12069689 -0.59378242 -0.47525382 -0.03109539  0.28781402\n",
      " -0.51556301 -0.26363477 -0.0820123   0.31425434 -0.10971891  0.53333962\n",
      "  0.3446033  -0.62146574 -0.15398794  0.11720303  0.50415224 -0.79616308\n",
      " -0.25548786  0.36809164 -0.26254281  0.11736908 -0.30717522 -0.18103991\n",
      " -0.03320931 -0.15692121 -0.22654058  0.56092978]\n"
     ]
    }
   ],
   "source": [
    "word = zen.words[0]\n",
    "print(word.vector)"
   ]
  },
  {
   "cell_type": "markdown",
   "metadata": {},
   "source": [
    "### Morphology"
   ]
  },
  {
   "cell_type": "code",
   "execution_count": 55,
   "metadata": {
    "collapsed": false
   },
   "outputs": [
    {
     "name": "stdout",
     "output_type": "stream",
     "text": [
      "[u'Pre', u'process', u'ing']\n"
     ]
    }
   ],
   "source": [
    "word = Text(\"Preprocessing is an essential step.\").words[0]\n",
    "print(word.morphemes)"
   ]
  },
  {
   "cell_type": "markdown",
   "metadata": {},
   "source": [
    "### Transliteration"
   ]
  },
  {
   "cell_type": "code",
   "execution_count": 70,
   "metadata": {
    "collapsed": false
   },
   "outputs": [
    {
     "name": "stdout",
     "output_type": "stream",
     "text": [
      "препрокессинг\n"
     ]
    }
   ],
   "source": [
    "from polyglot.transliteration import Transliterator\n",
    "transliterator = Transliterator(source_lang=\"en\", target_lang=\"ru\")\n",
    "print(transliterator.transliterate(u\"preprocessing\"))"
   ]
  }
 ],
 "metadata": {
  "kernelspec": {
   "display_name": "Python 2",
   "language": "python",
   "name": "python2"
  },
  "language_info": {
   "codemirror_mode": {
    "name": "ipython",
    "version": 2
   },
   "file_extension": ".py",
   "mimetype": "text/x-python",
   "name": "python",
   "nbconvert_exporter": "python",
   "pygments_lexer": "ipython2",
   "version": "2.7.6"
  }
 },
 "nbformat": 4,
 "nbformat_minor": 0
}
