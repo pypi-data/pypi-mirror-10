{
 "metadata": {
  "name": ""
 },
 "nbformat": 3,
 "nbformat_minor": 0,
 "worksheets": [
  {
   "cells": [
    {
     "cell_type": "heading",
     "level": 1,
     "metadata": {},
     "source": [
      "Lesson 1: Evaluate and plot surrogates"
     ]
    },
    {
     "cell_type": "code",
     "collapsed": false,
     "input": [
      "### setup system path ###\n",
      "# NOTE: This step is NOT needed if gwsurrogate was installed from pip, with \"python setup.py install\" \n",
      "# or if PYTHONPATH has been set (see README)\n",
      "import sys, os\n",
      "path_to_gws = '/home/scott/Repos/GitRepos/Codes/gwsurrogate/'\n",
      "sys.path.append(path_to_gws)"
     ],
     "language": "python",
     "metadata": {},
     "outputs": []
    },
    {
     "cell_type": "code",
     "collapsed": false,
     "input": [
      "### import the gwsurrogate module and load an existing surrogate ###\n",
      "import gwsurrogate as gws\n",
      "\n",
      "# assumes notebook launched from \"notebooks\" directory\n",
      "path_to_surrogate = path_to_gws+'tutorial/TutorialSurrogate/EOB_q1_2_NoSpin_Mode22/l2_m2_len12239M_SurID19poly/'\n",
      "EOBNRv2_sur       = gws.EvaluateSingleModeSurrogate(path_to_surrogate) # multi-mode evaluation covered in other notebooks\n",
      "\n",
      "### import other useful packages ###\n",
      "import matplotlib.pyplot as plt\n",
      "import numpy as np"
     ],
     "language": "python",
     "metadata": {},
     "outputs": []
    },
    {
     "cell_type": "code",
     "collapsed": false,
     "input": [
      "### evaluate and plot an EOB surrogate waveform (physical) ###\n",
      "t, hp, hc = EOBNRv2_sur(q=1.7, M=80.0, dist=1.0, phi_ref = 0.0, f_low = 10.0)\n",
      "\n",
      "amp, phase = EOBNRv2_sur.amp_phase(hp + 1j*hc)\n",
      "\n",
      "EOBNRv2_sur.plot_pretty(t, [hp, hc])\n",
      "plt.plot(t,amp,'r')\n",
      "plt.xlabel('t (seconds)')\n",
      "plt.show()"
     ],
     "language": "python",
     "metadata": {},
     "outputs": []
    },
    {
     "cell_type": "code",
     "collapsed": false,
     "input": [
      "### Variety of helper functions, for example, compute the mode's phase at merger...\n",
      "phi_m = EOBNRv2_sur.phi_merger(hp + 1j*hc)\n",
      "print 'current phase is '+str( np.mod(EOBNRv2_sur.phi_merger(hp + 1j*hc),2.0*np.pi) )\n",
      "\n",
      "### ...modify h, without generating a new waveform, such that the phase is now 2.0\n",
      "h_adj = EOBNRv2_sur.adjust_merger_phase(hp + 1j*hc,2.0)\n",
      "print 'new phase is '+str( np.mod(EOBNRv2_sur.phi_merger(h_adj),2.0 * np.pi) )"
     ],
     "language": "python",
     "metadata": {},
     "outputs": []
    },
    {
     "cell_type": "code",
     "collapsed": false,
     "input": [
      "### direct plotting is also supported (dimensionless) ###\n",
      "EOBNRv2_sur.plot_sur(1.7);"
     ],
     "language": "python",
     "metadata": {},
     "outputs": []
    },
    {
     "cell_type": "code",
     "collapsed": false,
     "input": [
      "### if you try to evaluate the surrogate outside of its training range, you will be warned ###\n",
      "t, hp1, hc1 = EOBNRv2_sur(q=2.7, M=80.0, dist=1.0)"
     ],
     "language": "python",
     "metadata": {},
     "outputs": []
    },
    {
     "cell_type": "heading",
     "level": 1,
     "metadata": {},
     "source": [
      "Lesson 2: Sampling the surrogate at different times"
     ]
    },
    {
     "cell_type": "code",
     "collapsed": false,
     "input": [
      "# Surrogate at q=1.2 with original time sampling (i.e. the one for which it was built)\n",
      "t, hp, hc = EOBNRv2_sur(q=1.2)"
     ],
     "language": "python",
     "metadata": {},
     "outputs": []
    },
    {
     "cell_type": "code",
     "collapsed": false,
     "input": [
      "# Surrogate at q=1.2 with 8000 samples in same interval of time\n",
      "t_resamp, hp_resamp, hc_resamp = EOBNRv2_sur(1.2, samples=np.linspace(t.min(), t.max(), num=8000))"
     ],
     "language": "python",
     "metadata": {},
     "outputs": []
    },
    {
     "cell_type": "code",
     "collapsed": false,
     "input": [
      "# Plot the surrogate with the original and resampled times\n",
      "EOBNRv2_sur.plot_pretty(t, [hp, hc],1)\n",
      "EOBNRv2_sur.plot_pretty(t_resamp, [hp_resamp, hc_resamp],2)\n",
      "EOBNRv2_sur.plt.show()"
     ],
     "language": "python",
     "metadata": {},
     "outputs": []
    },
    {
     "cell_type": "heading",
     "level": 1,
     "metadata": {},
     "source": [
      "Lesson 3: Surrogate properties"
     ]
    },
    {
     "cell_type": "code",
     "collapsed": false,
     "input": [
      "### Greedy points and eim indicies ###\n",
      "eim_pts = EOBNRv2_sur.eim_indices\n",
      "\n",
      "t, hp, hc = EOBNRv2_sur(1.7,80.0,1.0)\n",
      "EOBNRv2_sur.plot_pretty(t, [hp, hc])\n",
      "plt.plot(t[eim_pts],np.zeros(eim_pts.shape),'r*',markersize=15)\n",
      "plt.show()\n",
      "\n",
      "\n",
      "print 'Mass ratios defining the basis: '\n",
      "print EOBNRv2_sur.greedy_points"
     ],
     "language": "python",
     "metadata": {},
     "outputs": []
    },
    {
     "cell_type": "code",
     "collapsed": false,
     "input": [
      "### Temporal information is stored with dimensionless 't/M' units ###\n",
      "print 'temporal units is '+EOBNRv2_sur.t_units\n",
      "print 'temporal sampling is '+str(EOBNRv2_sur.dt)\n",
      "print 'sampling rate is '+str(1.0/EOBNRv2_sur.dt)\n",
      "print 'initial time is '+str(EOBNRv2_sur.tmin)\n",
      "print 'final time is '+str(EOBNRv2_sur.tmax)"
     ],
     "language": "python",
     "metadata": {},
     "outputs": []
    },
    {
     "cell_type": "markdown",
     "metadata": {},
     "source": [
      "We now show two ways of recovering the 5th physical RB waveform. The first way evalutes the surrogate at the 5th greedy point q_5. The second way uses the Vandermonde matrix V and the GS matrix R (defined as A = QR) to exactly recover the 5th physical RB waveform. Having two (kinda) independent ways to compute h_5 provides a check of R,V, and the surrogate model error at this value of q."
     ]
    },
    {
     "cell_type": "code",
     "collapsed": false,
     "input": [
      "### plot the 5th cardinal (B) basis which appears as h_surrogate = Sum_i B_i(t) h(T_i)  ###\n",
      "times = EOBNRv2_sur.time()\n",
      "b_5   = EOBNRv2_sur.basis(4,'cardinal')\n",
      "\n",
      "EOBNRv2_sur.plot_pretty(times,[b_5.real,b_5.imag],1)\n",
      "plt.title('Cardinal basis')\n",
      "\n",
      "### use the matrix V, as E = B V, to exactly recover the 5th orthonormal basis E ###\n",
      "e_5 = EOBNRv2_sur.basis(4,'orthogonal')\n",
      "\n",
      "EOBNRv2_sur.plot_pretty(times,[e_5.real,e_5.imag],2)\n",
      "plt.title('Orthogonal basis')\n",
      "\n",
      "### use the matrix R, as H = E R, to recover the 5th physical basis H ###\n",
      "h_5 = EOBNRv2_sur.basis(4,'waveform')\n",
      "\n",
      "EOBNRv2_sur.plot_pretty(times,[h_5.real,h_5.imag],3)\n",
      "plt.title('Waveform basis')\n",
      "\n",
      "### use the surrogate model to evaluate for the 5th physical basis ###\n",
      "hp_5_surr, hc_5_surr = EOBNRv2_sur._h_sur(EOBNRv2_sur.greedy_points[4])\n",
      "nrm_5 = EOBNRv2_sur.norm_eval(EOBNRv2_sur.greedy_points[4]) # need normalization constant for comparison with normalized basis\n",
      "hp_5_surr = hp_5_surr / nrm_5 \n",
      "hc_5_surr = hc_5_surr / nrm_5\n",
      "\n",
      "EOBNRv2_sur.plot_pretty(times,[hp_5_surr,hc_5_surr],4)\n",
      "plt.title('Waveform basis via surrogate model')\n",
      "\n",
      "### plot the difference between the 5th physical basis and its surrogate -- consistency and error check ###\n",
      "EOBNRv2_sur.plot_pretty(times,[h_5.real - hp_5_surr,h_5.imag - hc_5_surr],5,'semilogy')\n",
      "plt.title('Difference between physical waveform basis and its surrogate prediction')\n",
      "\n",
      "plt.show()"
     ],
     "language": "python",
     "metadata": {},
     "outputs": []
    },
    {
     "cell_type": "code",
     "collapsed": false,
     "input": [
      "### check basis orthonormality (using Euclidean inner product) ###\n",
      "### NOTE: Basis orthogonal on physical grid (in seconds). See surrogate's info.data file\n",
      "dt  = 1.0/2048.0\n",
      "e_6 = EOBNRv2_sur.basis(5,'orthogonal')\n",
      "print '<e_5,e_6> = ', np.sum(e_5*np.conj(e_6)) * dt\n",
      "print '<e_5,e_5> = ', np.sum(e_5*np.conj(e_5)) * dt"
     ],
     "language": "python",
     "metadata": {},
     "outputs": []
    },
    {
     "cell_type": "code",
     "collapsed": false,
     "input": [
      "### plotting the waveform basis using the surrogate is also a built-in function ###\n",
      "EOBNRv2_sur.plot_rb(4)"
     ],
     "language": "python",
     "metadata": {},
     "outputs": []
    },
    {
     "cell_type": "heading",
     "level": 1,
     "metadata": {},
     "source": [
      "Lesson 4: Download surrogates from a server"
     ]
    },
    {
     "cell_type": "markdown",
     "metadata": {},
     "source": [
      "Surrogate may be located on a server. gwsurrogate provides a list of the locations as well as easy-to-use tools to download them"
     ]
    },
    {
     "cell_type": "code",
     "collapsed": false,
     "input": [
      "### view all available surrogates ###\n",
      "gws.surrogate_repo.list()"
     ],
     "language": "python",
     "metadata": {},
     "outputs": []
    },
    {
     "cell_type": "code",
     "collapsed": false,
     "input": [
      "### display the default location for all surrogate downloads ###\n",
      "gws.surrogate_repo.download_path()"
     ],
     "language": "python",
     "metadata": {},
     "outputs": []
    },
    {
     "cell_type": "code",
     "collapsed": false,
     "input": [
      "### download a surrogate (this will take a moment, check the terminal for progress) ##\n",
      "gws.surrogate_repo.get('EOBNRv2')\n",
      "# ...or specify a custom download location as \n",
      "#gws.surrogate_repo.get('EOBNRv2','/home/scott/Desktop/surrogate_download/')"
     ],
     "language": "python",
     "metadata": {},
     "outputs": []
    },
    {
     "cell_type": "code",
     "collapsed": false,
     "input": [
      "### unpack the surrogate ###\n",
      "unzip_loc = gws.surrogate_repo.unzip('EOBNRv2') ## <-- this is the surrogate's location\n",
      "\n",
      "# ...or from the custom download location\n",
      "# unzip_loc = gws.surrogate_repo.unzip('EOBNRv2','/home/scott/Desktop/surrogate_download/')\n",
      "\n",
      "### if everything works you should see EOBNRv2.tar.gz (which you can now delete), EOBNRv2 ###\n",
      "print os.listdir(unzip_loc) "
     ],
     "language": "python",
     "metadata": {},
     "outputs": []
    },
    {
     "cell_type": "code",
     "collapsed": false,
     "input": [
      "### view available surrogates. Each folder l#_m# is a separate surrogate model  ###\n",
      "\n",
      "print 'General surrogate types: ',os.listdir(unzip_loc)\n",
      "\n",
      "# (2,2) mode for duration 12236 M, usings 40 basis and polynomial fits\n",
      "print 'q = 1-10 surrogates: ',os.listdir(unzip_loc+'/EOBNRv2_q1_10_NoSpin_SingleModes') \n",
      "\n",
      "# variety of modes, durations and basis\n",
      "print 'q = 1-2 surrogates: ',os.listdir(unzip_loc+'/EOBNRv2_q1_2_NoSpin_SingleModes') "
     ],
     "language": "python",
     "metadata": {},
     "outputs": []
    },
    {
     "cell_type": "code",
     "collapsed": false,
     "input": [
      "### load your favorite surrogates ###\n",
      "EOBNRv2_22_q10_12236M = \\\n",
      "  gws.EvaluateSingleModeSurrogate(unzip_loc+'EOBNRv2_q1_10_NoSpin_SingleModes/'+'l2_m2_len12236M_SurID40poly/')\n",
      "EOBNRv2_22_q2_191839M = \\\n",
      "  gws.EvaluateSingleModeSurrogate(unzip_loc+'EOBNRv2_q1_2_NoSpin_SingleModes/'+'l2_m2_len191839M_SurID20poly/')\n",
      "EOBNRv2_44_q2_12238M  = \\\n",
      "  gws.EvaluateSingleModeSurrogate(unzip_loc+'EOBNRv2_q1_2_NoSpin_SingleModes/'+'l4_m4_len12238M_SurID15poly/')"
     ],
     "language": "python",
     "metadata": {},
     "outputs": []
    },
    {
     "cell_type": "code",
     "collapsed": false,
     "input": [
      "### evaluate and plot ###\n",
      "t, hp, hc = EOBNRv2_22_q10_12236M(q = 8.7, M = 80.0, dist = 1.0, phi_ref = 3.1415, f_low = 15.0)\n",
      "EOBNRv2_22_q10_12236M.plot_pretty(t, hp, hc,1) \n",
      "\n",
      "t, hp, hc = EOBNRv2_22_q2_191839M(q = 1.7, M = 7.0, dist = 1.0, phi_ref = 17.0, f_low = 40.0)\n",
      "EOBNRv2_22_q10_12236M.plot_pretty(t, hp, hc,2) \n",
      "\n",
      "t, hp, hc = EOBNRv2_44_q2_12238M(q = 1.7, M = 150.0, dist = 1.0, f_low=40.0)\n",
      "EOBNRv2_44_q2_12238M.plot_pretty(t, hp, hc,3) \n",
      "\n",
      "plt.pyplot.show()"
     ],
     "language": "python",
     "metadata": {},
     "outputs": []
    }
   ],
   "metadata": {}
  }
 ]
}