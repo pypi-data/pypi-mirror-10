{
 "metadata": {
  "name": "",
  "signature": "sha256:408976339d0164bdddcb5e66bb202a2e54bc26e42c2b0c141b965838ee06f9c8"
 },
 "nbformat": 3,
 "nbformat_minor": 0,
 "worksheets": [
  {
   "cells": [
    {
     "cell_type": "heading",
     "level": 1,
     "metadata": {},
     "source": [
      "Term Frequency Models"
     ]
    },
    {
     "cell_type": "markdown",
     "metadata": {},
     "source": [
      "This notebook demonstrates how to use the `Corpus` objects to train and view a term frequency (TF) or \"word count\" model, a term frequency-inverse document frequency (tf-idf) model, the Latent Semantic Analysis (LSA) model, and view topics in the LDA models trained throught the topic explorer.\n",
      "\n",
      "To run the notebook, use the menu `Cell -> Run All` or use the play button for one cell at a time."
     ]
    },
    {
     "cell_type": "code",
     "collapsed": false,
     "input": [
      "# First we load the vsm module and import your corpus\n",
      "from vsm import *\n",
      "from corpus import *"
     ],
     "language": "python",
     "metadata": {},
     "outputs": []
    },
    {
     "cell_type": "heading",
     "level": 2,
     "metadata": {},
     "source": [
      "Term Frequency Models"
     ]
    },
    {
     "cell_type": "markdown",
     "metadata": {},
     "source": [
      "The term frequency model is the most primitive of all vector space models. For each document, we simply count the number of occurrences of a word."
     ]
    },
    {
     "cell_type": "code",
     "collapsed": false,
     "input": [
      "# train and initialize the Term Frequency Model\n",
      "tf = TF(c, context_type)\n",
      "tf.train()\n",
      "tf_v = TfViewer(c, tf)"
     ],
     "language": "python",
     "metadata": {},
     "outputs": []
    },
    {
     "cell_type": "code",
     "collapsed": false,
     "input": [
      "# print the most frequent terms in the document\n",
      "tf_v.coll_freqs()"
     ],
     "language": "python",
     "metadata": {},
     "outputs": []
    },
    {
     "cell_type": "heading",
     "level": 2,
     "metadata": {},
     "source": [
      "tf-idf Models"
     ]
    },
    {
     "cell_type": "code",
     "collapsed": false,
     "input": [
      "#train and intialize the tf-idf model\n",
      "tfidf = TfIdf.from_tf(tf)\n",
      "tfidf.train()\n",
      "tfidf_v = TfIdfViewer(c, tfidf)"
     ],
     "language": "python",
     "metadata": {},
     "outputs": []
    },
    {
     "cell_type": "heading",
     "level": 2,
     "metadata": {},
     "source": [
      "LSA Models"
     ]
    },
    {
     "cell_type": "code",
     "collapsed": false,
     "input": [
      "lsa = Lsa.from_tf(tf)\n",
      "lsa.train(k_factors=50)\n",
      "lsa_v = LsaViewer(c, lsa)"
     ],
     "language": "python",
     "metadata": {},
     "outputs": []
    },
    {
     "cell_type": "heading",
     "level": 2,
     "metadata": {},
     "source": [
      "LDA Models"
     ]
    },
    {
     "cell_type": "markdown",
     "metadata": {},
     "source": [
      "The LDA models are automatically imported in the dictionary `lda_v[k]` where k is the number of topics."
     ]
    },
    {
     "cell_type": "code",
     "collapsed": false,
     "input": [
      "lda_v[20].topics()"
     ],
     "language": "python",
     "metadata": {},
     "outputs": []
    },
    {
     "cell_type": "code",
     "collapsed": false,
     "input": [
      "v=lda_v[20]"
     ],
     "language": "python",
     "metadata": {},
     "outputs": []
    },
    {
     "cell_type": "code",
     "collapsed": false,
     "input": [
      "# show the difference in document relations across documents\n",
      "import numpy as np",
      "words = ['moral']\n",
      "b=np.array(v.dist_word_top(words, show_topics=False))\n",
      "sim_docs = [tf_v.dist_word_doc(words),\n",
      "tfidf_v.dist_word_doc(words),\n",
      "lsa_v.dist_word_doc(words),\n",
      "v.dist_top_doc(b['i'], weights=np.ones_like(b['value']) - b['value'])]\n",
      "[docs[:10]['doc'] for docs in sim_docs]"
     ],
     "language": "python",
     "metadata": {},
     "outputs": []
    }
   ],
   "metadata": {}
  }
 ]
}
