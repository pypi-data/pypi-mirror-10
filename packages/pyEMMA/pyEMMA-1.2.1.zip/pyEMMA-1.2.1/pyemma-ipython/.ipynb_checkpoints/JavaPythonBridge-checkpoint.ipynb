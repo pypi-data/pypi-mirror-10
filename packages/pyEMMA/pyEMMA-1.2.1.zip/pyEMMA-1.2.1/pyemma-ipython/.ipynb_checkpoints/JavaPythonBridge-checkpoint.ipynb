{
 "cells": [
  {
   "cell_type": "markdown",
   "metadata": {},
   "source": [
    "Java/Python Bridge\n",
    "==================\n",
    "To make it possible to run Java code via Python, we use the package JPype (http://jpype.readthedocs.org/en/latest/). \n",
    "\n",
    "The stallone java libray (https://bitbucket.org/cmb_fu/stallone) is directly used by EMMA for some algorithms like data processing. But you may access all kind of features from it like this:"
   ]
  },
  {
   "cell_type": "code",
   "execution_count": 1,
   "metadata": {
    "collapsed": false
   },
   "outputs": [
    {
     "ename": "ImportError",
     "evalue": "No module named pystallone",
     "output_type": "error",
     "traceback": [
      "\u001b[1;31m---------------------------------------------------------------------------\u001b[0m",
      "\u001b[1;31mImportError\u001b[0m                               Traceback (most recent call last)",
      "\u001b[1;32m<ipython-input-1-52956ff2e89e>\u001b[0m in \u001b[0;36m<module>\u001b[1;34m()\u001b[0m\n\u001b[1;32m----> 1\u001b[1;33m \u001b[1;32mfrom\u001b[0m \u001b[0mpyemma\u001b[0m\u001b[1;33m.\u001b[0m\u001b[0mutil\u001b[0m\u001b[1;33m.\u001b[0m\u001b[0mpystallone\u001b[0m \u001b[1;32mimport\u001b[0m \u001b[0mAPI\u001b[0m\u001b[1;33m\u001b[0m\u001b[0m\n\u001b[0m",
      "\u001b[1;31mImportError\u001b[0m: No module named pystallone"
     ]
    }
   ],
   "source": [
    "from pyemma.util.pystallone import API"
   ]
  },
  {
   "cell_type": "markdown",
   "metadata": {},
   "source": [
    "For an overview of the provided functionality, please have look [here](http://www.mi.fu-berlin.de/users/marscher/stallone-apidocs/stallone/api/API.html)."
   ]
  },
  {
   "cell_type": "markdown",
   "metadata": {},
   "source": [
    "Extend with your own Libraries\n",
    "------------------------------\n",
    "It is possible to extend EMMA with your own Java code with only one change to a configuration file. To do so, you need to change the classpath in a custom *pyemma.cfg* file:\n",
    "\n",
    "```D\n",
    "[Java]\n",
    "# Optional classpath extension, empty by default.\n",
    "# To define multiple classpathes, one should separate them with os specific path sep:\n",
    "# ':' for Linux\n",
    "# ';' for Windows\n",
    "# use absolute paths here!\n",
    "classpath = /home/marscher/sources/bioshell/bin\n",
    "```\n",
    "\n",
    "This file should be stored in your home directory under *pyemma.cfg*. The given classpathes are appended to the one EMMA uses to access its own Java libraries.\n",
    "After that you may import your lib like this:\n",
    "```python\n",
    "import pyemma # this automatically starts up a Java virtual machine and initializes the classpath\n",
    "\n",
    "# create a JPackage instance, which makes all classes under 'mypackage' available\n",
    "myPkg = pyemma.util.pystallone.JPackage('org.mycompany.mypackage')\n",
    "# instanciate MyClass from mypackage\n",
    "c = myPkg.MyClass(\"arg\", 123, [1, 42, 8])\n",
    "# do something with the class, eg. invoke a method\n",
    "result = c.work()\n",
    "```"
   ]
  },
  {
   "cell_type": "markdown",
   "metadata": {},
   "source": [
    "Efficient bidirectional Memory Access\n",
    "-------------------------------------\n",
    "During dataprocessing one may want to pass large chunks of data from Python to Java, so some computation and have the result right back on the Python side. For this use case it, we provide a wrapper, which makes this possible to directly pass a pointer to the underlying numpy buffer to Java. So changes on the array on Java side are directly visible on Python's. The following code demonstrate the usage."
   ]
  },
  {
   "cell_type": "code",
   "execution_count": 1,
   "metadata": {
    "collapsed": false
   },
   "outputs": [],
   "source": [
    "import pyemma\n",
    "import numpy as np"
   ]
  },
  {
   "cell_type": "markdown",
   "metadata": {},
   "source": [
    "Create an empty numpy vector and show its flags. Its important that it is *C-contiguous*, so it can be accessed in an c array like fashion (raw pointer access)."
   ]
  },
  {
   "cell_type": "code",
   "execution_count": 2,
   "metadata": {
    "collapsed": false
   },
   "outputs": [
    {
     "name": "stdout",
     "output_type": "stream",
     "text": [
      "  C_CONTIGUOUS : True\n",
      "  F_CONTIGUOUS : True\n",
      "  OWNDATA : True\n",
      "  WRITEABLE : True\n",
      "  ALIGNED : True\n",
      "  UPDATEIFCOPY : False\n"
     ]
    }
   ],
   "source": [
    "x = np.zeros(3)\n",
    "print x.flags"
   ]
  },
  {
   "cell_type": "markdown",
   "metadata": {},
   "source": [
    "Now one can convert this numpy vector to a direct buffer the stallone array wrapping interface. The stallone array wrapper directly converts to direct buffer and wraps this in an stallone array type. Ensure that you pass copy=False to the method. Otherwise a copy will be performed. The wrapper method will also raise, if the passed in array is not contiguous. "
   ]
  },
  {
   "cell_type": "code",
   "execution_count": 3,
   "metadata": {
    "collapsed": false
   },
   "outputs": [],
   "source": [
    "s = pyemma.util.pystallone.ndarray_to_stallone_array(x, copy=False)"
   ]
  },
  {
   "cell_type": "code",
   "execution_count": 4,
   "metadata": {
    "collapsed": false
   },
   "outputs": [],
   "source": [
    "s.set(0, 24.)\n",
    "s.set(2, 42.)"
   ]
  },
  {
   "cell_type": "code",
   "execution_count": 5,
   "metadata": {
    "collapsed": false
   },
   "outputs": [
    {
     "name": "stdout",
     "output_type": "stream",
     "text": [
      "24.0\t0.0\t42.0\t\n"
     ]
    }
   ],
   "source": [
    "print s"
   ]
  },
  {
   "cell_type": "code",
   "execution_count": 6,
   "metadata": {
    "collapsed": false
   },
   "outputs": [
    {
     "data": {
      "text/plain": [
       "True"
      ]
     },
     "execution_count": 6,
     "metadata": {},
     "output_type": "execute_result"
    }
   ],
   "source": [
    "np.allclose(x[0], s.get(0))"
   ]
  },
  {
   "cell_type": "code",
   "execution_count": 7,
   "metadata": {
    "collapsed": false
   },
   "outputs": [
    {
     "data": {
      "text/plain": [
       "True"
      ]
     },
     "execution_count": 7,
     "metadata": {},
     "output_type": "execute_result"
    }
   ],
   "source": [
    "np.allclose(x, s.getArray())"
   ]
  }
 ],
 "metadata": {
  "kernelspec": {
   "display_name": "Python 2",
   "language": "python",
   "name": "python2"
  },
  "language_info": {
   "codemirror_mode": {
    "name": "ipython",
    "version": 2
   },
   "file_extension": ".py",
   "mimetype": "text/x-python",
   "name": "python",
   "nbconvert_exporter": "python",
   "pygments_lexer": "ipython2",
   "version": "2.7.9"
  }
 },
 "nbformat": 4,
 "nbformat_minor": 0
}
