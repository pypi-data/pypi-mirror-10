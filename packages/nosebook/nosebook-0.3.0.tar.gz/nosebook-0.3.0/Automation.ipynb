{
 "cells": [
  {
   "cell_type": "markdown",
   "metadata": {},
   "source": [
    "## Automation\n",
    "Nothing too fancy here."
   ]
  },
  {
   "cell_type": "markdown",
   "metadata": {},
   "source": [
    "### Run tests"
   ]
  },
  {
   "cell_type": "code",
   "execution_count": null,
   "metadata": {
    "collapsed": false
   },
   "outputs": [],
   "source": [
    "!python setup.py test"
   ]
  },
  {
   "cell_type": "markdown",
   "metadata": {},
   "source": [
    "### Check code style"
   ]
  },
  {
   "cell_type": "code",
   "execution_count": null,
   "metadata": {
    "collapsed": false
   },
   "outputs": [],
   "source": [
    "!flake8 *.py tests/*.py"
   ]
  },
  {
   "cell_type": "markdown",
   "metadata": {},
   "source": [
    "### Generate `README.md` from `README.ipynb`"
   ]
  },
  {
   "cell_type": "code",
   "execution_count": null,
   "metadata": {
    "collapsed": false
   },
   "outputs": [],
   "source": [
    "!ipython nbconvert README.ipynb --to=markdown"
   ]
  },
  {
   "cell_type": "markdown",
   "metadata": {},
   "source": [
    "## Test Release for PyPi"
   ]
  },
  {
   "cell_type": "code",
   "execution_count": null,
   "metadata": {
    "collapsed": false
   },
   "outputs": [
    {
     "name": "stdout",
     "output_type": "stream",
     "text": [
      "running register\n",
      "running egg_info\n",
      "writing top-level names to nosebook.egg-info/top_level.txt\n",
      "writing nosebook.egg-info/PKG-INFO\n",
      "writing dependency_links to nosebook.egg-info/dependency_links.txt\n",
      "writing entry points to nosebook.egg-info/entry_points.txt\n",
      "reading manifest file 'nosebook.egg-info/SOURCES.txt'\n",
      "reading manifest template 'MANIFEST.in'\n",
      "warning: no files found matching '*.ipynb' under directory 'tests/'\n",
      "writing manifest file 'nosebook.egg-info/SOURCES.txt'\n",
      "running check\n",
      "Registering nosebook to https://testpypi.python.org/pypi\n",
      "Server response (200): OK\n",
      "running sdist\n",
      "running egg_info\n",
      "writing dependency_links to nosebook.egg-info/dependency_links.txt\n",
      "writing nosebook.egg-info/PKG-INFO\n",
      "writing entry points to nosebook.egg-info/entry_points.txt\n",
      "writing top-level names to nosebook.egg-info/top_level.txt\n",
      "reading manifest file 'nosebook.egg-info/SOURCES.txt'\n",
      "reading manifest template 'MANIFEST.in'\n",
      "warning: no files found matching '*.ipynb' under directory 'tests/'\n",
      "writing manifest file 'nosebook.egg-info/SOURCES.txt'\n",
      "warning: sdist: standard file not found: should have one of README, README.rst, README.txt\n",
      "\n",
      "running check\n",
      "creating nosebook-0.3.0\n",
      "creating nosebook-0.3.0/nosebook.egg-info\n",
      "making hard links in nosebook-0.3.0...\n",
      "hard linking Automation.ipynb -> nosebook-0.3.0\n",
      "hard linking LICENSE -> nosebook-0.3.0\n",
      "hard linking MANIFEST.in -> nosebook-0.3.0\n",
      "hard linking README.ipynb -> nosebook-0.3.0\n",
      "hard linking README.md -> nosebook-0.3.0\n",
      "hard linking nosebook.py -> nosebook-0.3.0\n",
      "hard linking setup.cfg -> nosebook-0.3.0\n",
      "hard linking setup.py -> nosebook-0.3.0\n",
      "hard linking nosebook.egg-info/PKG-INFO -> nosebook-0.3.0/nosebook.egg-info\n",
      "hard linking nosebook.egg-info/SOURCES.txt -> nosebook-0.3.0/nosebook.egg-info\n",
      "hard linking nosebook.egg-info/dependency_links.txt -> nosebook-0.3.0/nosebook.egg-info\n",
      "hard linking nosebook.egg-info/entry_points.txt -> nosebook-0.3.0/nosebook.egg-info\n",
      "hard linking nosebook.egg-info/top_level.txt -> nosebook-0.3.0/nosebook.egg-info\n",
      "copying setup.cfg -> nosebook-0.3.0\n",
      "Writing nosebook-0.3.0/setup.cfg\n",
      "Creating tar archive\n",
      "removing 'nosebook-0.3.0' (and everything under it)\n",
      "running bdist_wheel\n",
      "running build\n",
      "running build_py\n",
      "installing to build/bdist.linux-x86_64/wheel\n",
      "running install\n",
      "running install_lib\n",
      "creating build/bdist.linux-x86_64/wheel\n",
      "copying build/lib/nosebook.py -> build/bdist.linux-x86_64/wheel\n",
      "running install_egg_info\n",
      "running egg_info\n",
      "writing top-level names to nosebook.egg-info/top_level.txt\n",
      "writing nosebook.egg-info/PKG-INFO\n",
      "writing dependency_links to nosebook.egg-info/dependency_links.txt\n",
      "writing entry points to nosebook.egg-info/entry_points.txt\n",
      "reading manifest file 'nosebook.egg-info/SOURCES.txt'\n",
      "reading manifest template 'MANIFEST.in'\n",
      "warning: no files found matching '*.ipynb' under directory 'tests/'\n",
      "writing manifest file 'nosebook.egg-info/SOURCES.txt'\n",
      "Copying nosebook.egg-info to build/bdist.linux-x86_64/wheel/nosebook-0.3.0-py3.4.egg-info\n",
      "running install_scripts\n",
      "creating build/bdist.linux-x86_64/wheel/nosebook-0.3.0.dist-info/WHEEL\n",
      "running sdist\n",
      "running egg_info\n",
      "writing entry points to nosebook.egg-info/entry_points.txt\n",
      "writing dependency_links to nosebook.egg-info/dependency_links.txt\n",
      "writing top-level names to nosebook.egg-info/top_level.txt\n",
      "writing nosebook.egg-info/PKG-INFO\n",
      "reading manifest file 'nosebook.egg-info/SOURCES.txt'\n",
      "reading manifest template 'MANIFEST.in'\n",
      "warning: no files found matching '*.ipynb' under directory 'tests/'\n",
      "writing manifest file 'nosebook.egg-info/SOURCES.txt'\n",
      "warning: sdist: standard file not found: should have one of README, README.rst, README.txt\n",
      "\n",
      "running check\n",
      "creating nosebook-0.3.0\n",
      "creating nosebook-0.3.0/nosebook.egg-info\n",
      "making hard links in nosebook-0.3.0...\n",
      "hard linking Automation.ipynb -> nosebook-0.3.0\n",
      "hard linking LICENSE -> nosebook-0.3.0\n",
      "hard linking MANIFEST.in -> nosebook-0.3.0\n",
      "hard linking README.ipynb -> nosebook-0.3.0\n",
      "hard linking README.md -> nosebook-0.3.0\n",
      "hard linking nosebook.py -> nosebook-0.3.0\n",
      "hard linking setup.cfg -> nosebook-0.3.0\n",
      "hard linking setup.py -> nosebook-0.3.0\n",
      "hard linking nosebook.egg-info/PKG-INFO -> nosebook-0.3.0/nosebook.egg-info\n",
      "hard linking nosebook.egg-info/SOURCES.txt -> nosebook-0.3.0/nosebook.egg-info\n",
      "hard linking nosebook.egg-info/dependency_links.txt -> nosebook-0.3.0/nosebook.egg-info\n",
      "hard linking nosebook.egg-info/entry_points.txt -> nosebook-0.3.0/nosebook.egg-info\n",
      "hard linking nosebook.egg-info/top_level.txt -> nosebook-0.3.0/nosebook.egg-info\n",
      "copying setup.cfg -> nosebook-0.3.0\n",
      "Writing nosebook-0.3.0/setup.cfg\n",
      "Creating tar archive\n",
      "removing 'nosebook-0.3.0' (and everything under it)\n",
      "running upload\n",
      "Submitting dist/nosebook-0.3.0.tar.gz to https://testpypi.python.org/pypi\n",
      "Server response (200): OK\n",
      "running bdist_wheel\n",
      "running build\n",
      "running build_py\n",
      "installing to build/bdist.linux-x86_64/wheel\n",
      "running install\n",
      "running install_lib\n",
      "creating build/bdist.linux-x86_64/wheel\n",
      "copying build/lib/nosebook.py -> build/bdist.linux-x86_64/wheel\n",
      "running install_egg_info\n",
      "running egg_info\n",
      "writing dependency_links to nosebook.egg-info/dependency_links.txt\n",
      "writing nosebook.egg-info/PKG-INFO\n",
      "writing entry points to nosebook.egg-info/entry_points.txt\n",
      "writing top-level names to nosebook.egg-info/top_level.txt\n",
      "reading manifest file 'nosebook.egg-info/SOURCES.txt'\n",
      "reading manifest template 'MANIFEST.in'\n",
      "warning: no files found matching '*.ipynb' under directory 'tests/'\n",
      "writing manifest file 'nosebook.egg-info/SOURCES.txt'\n",
      "Copying nosebook.egg-info to build/bdist.linux-x86_64/wheel/nosebook-0.3.0-py3.4.egg-info\n",
      "running install_scripts\n",
      "creating build/bdist.linux-x86_64/wheel/nosebook-0.3.0.dist-info/WHEEL\n",
      "running upload\n",
      "Submitting /home/weg/Documents/projects/nosebook/dist/nosebook-0.3.0-py2.py3-none-any.whl to https://testpypi.python.org/pypi\n"
     ]
    }
   ],
   "source": [
    "!python setup.py register -r pypitest\n",
    "!python setup.py sdist\n",
    "!python setup.py bdist_wheel\n",
    "!python setup.py sdist upload -r pypitest\n",
    "!python setup.py bdist_wheel upload -r pypitest"
   ]
  },
  {
   "cell_type": "markdown",
   "metadata": {},
   "source": [
    "# Cut a real release for PyPi"
   ]
  },
  {
   "cell_type": "code",
   "execution_count": null,
   "metadata": {
    "collapsed": true
   },
   "outputs": [],
   "source": [
    "!python setup.py register -r pypi\n",
    "!python setup.py sdist\n",
    "!python setup.py bdist_wheel\n",
    "!python setup.py sdist upload -r pypi\n",
    "!python setup.py bdist_wheel upload -r pypi"
   ]
  }
 ],
 "metadata": {
  "kernelspec": {
   "display_name": "Python 3",
   "language": "python",
   "name": "python3"
  },
  "language_info": {
   "codemirror_mode": {
    "name": "ipython",
    "version": 3
   },
   "file_extension": ".py",
   "mimetype": "text/x-python",
   "name": "python",
   "nbconvert_exporter": "python",
   "pygments_lexer": "ipython3",
   "version": "3.4.2"
  }
 },
 "nbformat": 4,
 "nbformat_minor": 0
}
