{
 "cells": [
  {
   "cell_type": "code",
   "execution_count": 4,
   "metadata": {
    "collapsed": true
   },
   "outputs": [],
   "source": [
    "from xlseries import XlSeries\n",
    "from xlseries.utils.path_finders import get_orig_cases_path"
   ]
  },
  {
   "cell_type": "code",
   "execution_count": 7,
   "metadata": {
    "collapsed": false
   },
   "outputs": [],
   "source": [
    "xl = XlSeries(get_orig_cases_path(1))\n",
    "\n",
    "params = {\n",
    "    \"headers_coord\": [\"B1\",\"C1\"],\n",
    "    \"data_starts\": 2,\n",
    "    \"frequency\": \"M\",\n",
    "    \"time_header_coord\": \"A1\"\n",
    "}\n",
    "\n",
    "dfs = xl.get_data_frames(params)"
   ]
  },
  {
   "cell_type": "code",
   "execution_count": 14,
   "metadata": {
    "collapsed": false
   },
   "outputs": [
    {
     "name": "stdout",
     "output_type": "stream",
     "text": [
      "1 data frames scraped from excel file.\n"
     ]
    },
    {
     "data": {
      "text/html": [
       "<div style=\"max-height:1000px;max-width:1500px;overflow:auto;\">\n",
       "<table border=\"1\" class=\"dataframe\">\n",
       "  <thead>\n",
       "    <tr style=\"text-align: right;\">\n",
       "      <th></th>\n",
       "      <th>IPC-CqP</th>\n",
       "      <th>Var. Anual</th>\n",
       "    </tr>\n",
       "  </thead>\n",
       "  <tbody>\n",
       "    <tr>\n",
       "      <th>1993-01</th>\n",
       "      <td>48.456885</td>\n",
       "      <td>NaN</td>\n",
       "    </tr>\n",
       "    <tr>\n",
       "      <th>1993-02</th>\n",
       "      <td>48.810834</td>\n",
       "      <td>NaN</td>\n",
       "    </tr>\n",
       "    <tr>\n",
       "      <th>1993-03</th>\n",
       "      <td>49.177819</td>\n",
       "      <td>NaN</td>\n",
       "    </tr>\n",
       "    <tr>\n",
       "      <th>1993-04</th>\n",
       "      <td>49.691889</td>\n",
       "      <td>NaN</td>\n",
       "    </tr>\n",
       "    <tr>\n",
       "      <th>1993-05</th>\n",
       "      <td>50.331205</td>\n",
       "      <td>NaN</td>\n",
       "    </tr>\n",
       "  </tbody>\n",
       "</table>\n",
       "</div>"
      ],
      "text/plain": [
       "           IPC-CqP  Var. Anual\n",
       "1993-01  48.456885         NaN\n",
       "1993-02  48.810834         NaN\n",
       "1993-03  49.177819         NaN\n",
       "1993-04  49.691889         NaN\n",
       "1993-05  50.331205         NaN"
      ]
     },
     "execution_count": 14,
     "metadata": {},
     "output_type": "execute_result"
    }
   ],
   "source": [
    "print len(dfs), \"data frames scraped from excel file.\"\n",
    "dfs[0].head()"
   ]
  },
  {
   "cell_type": "code",
   "execution_count": 15,
   "metadata": {
    "collapsed": false
   },
   "outputs": [
    {
     "data": {
      "text/html": [
       "<div style=\"max-height:1000px;max-width:1500px;overflow:auto;\">\n",
       "<table border=\"1\" class=\"dataframe\">\n",
       "  <thead>\n",
       "    <tr style=\"text-align: right;\">\n",
       "      <th></th>\n",
       "      <th>IPC-CqP</th>\n",
       "      <th>Var. Anual</th>\n",
       "    </tr>\n",
       "  </thead>\n",
       "  <tbody>\n",
       "    <tr>\n",
       "      <th>2013-11</th>\n",
       "      <td>437.313582</td>\n",
       "      <td>0.265343</td>\n",
       "    </tr>\n",
       "    <tr>\n",
       "      <th>2013-12</th>\n",
       "      <td>448.588774</td>\n",
       "      <td>0.274885</td>\n",
       "    </tr>\n",
       "    <tr>\n",
       "      <th>2014-01</th>\n",
       "      <td>469.161388</td>\n",
       "      <td>0.309569</td>\n",
       "    </tr>\n",
       "    <tr>\n",
       "      <th>2014-02</th>\n",
       "      <td>491.818800</td>\n",
       "      <td>0.351042</td>\n",
       "    </tr>\n",
       "    <tr>\n",
       "      <th>2014-03</th>\n",
       "      <td>508.186408</td>\n",
       "      <td>0.374577</td>\n",
       "    </tr>\n",
       "  </tbody>\n",
       "</table>\n",
       "</div>"
      ],
      "text/plain": [
       "            IPC-CqP  Var. Anual\n",
       "2013-11  437.313582    0.265343\n",
       "2013-12  448.588774    0.274885\n",
       "2014-01  469.161388    0.309569\n",
       "2014-02  491.818800    0.351042\n",
       "2014-03  508.186408    0.374577"
      ]
     },
     "execution_count": 15,
     "metadata": {},
     "output_type": "execute_result"
    }
   ],
   "source": [
    "dfs[0].tail()"
   ]
  },
  {
   "cell_type": "markdown",
   "metadata": {},
   "source": [
    "That would be a very easy case (hopefully most of them will be like that!), but sometimes parameters will differ between series in the same excel file and you will have to specify more than the 4 basic ones. "
   ]
  },
  {
   "cell_type": "code",
   "execution_count": 17,
   "metadata": {
    "collapsed": false
   },
   "outputs": [],
   "source": [
    "xl = XlSeries(get_orig_cases_path(2))\n",
    "\n",
    "params = {\n",
    "    \"headers_coord\": [\"D4\", \"F4\"],\n",
    "    \"data_starts\": [5, 22],\n",
    "    \"frequency\": [\"D\", \"M\"],\n",
    "    \"time_header_coord\": [\"C4\", \"F4\"],\n",
    "    \"time_alignment\": [0, -1],\n",
    "    \"continuity\": [True, False],\n",
    "    \"blank_rows\": [False, True],\n",
    "    \"missings\": [True, False],\n",
    "    \"missing_value\": [\"Implicit\", None]\n",
    "}\n",
    "\n",
    "dfs = xl.get_data_frames(params)"
   ]
  },
  {
   "cell_type": "code",
   "execution_count": 18,
   "metadata": {
    "collapsed": false
   },
   "outputs": [
    {
     "name": "stdout",
     "output_type": "stream",
     "text": [
      "2 data frames scraped from excel file.\n"
     ]
    },
    {
     "data": {
      "text/html": [
       "<div style=\"max-height:1000px;max-width:1500px;overflow:auto;\">\n",
       "<table border=\"1\" class=\"dataframe\">\n",
       "  <thead>\n",
       "    <tr style=\"text-align: right;\">\n",
       "      <th></th>\n",
       "      <th>Tipo de Cambio de Referencia - en Pesos - por Dolar</th>\n",
       "    </tr>\n",
       "  </thead>\n",
       "  <tbody>\n",
       "    <tr>\n",
       "      <th>2002-03-04</th>\n",
       "      <td>2.0083</td>\n",
       "    </tr>\n",
       "    <tr>\n",
       "      <th>2002-03-05</th>\n",
       "      <td>1.9917</td>\n",
       "    </tr>\n",
       "    <tr>\n",
       "      <th>2002-03-06</th>\n",
       "      <td>2.0508</td>\n",
       "    </tr>\n",
       "    <tr>\n",
       "      <th>2002-03-07</th>\n",
       "      <td>2.1375</td>\n",
       "    </tr>\n",
       "    <tr>\n",
       "      <th>2002-03-08</th>\n",
       "      <td>2.2033</td>\n",
       "    </tr>\n",
       "  </tbody>\n",
       "</table>\n",
       "</div>"
      ],
      "text/plain": [
       "            Tipo de Cambio de Referencia - en Pesos - por Dolar\n",
       "2002-03-04                                             2.0083  \n",
       "2002-03-05                                             1.9917  \n",
       "2002-03-06                                             2.0508  \n",
       "2002-03-07                                             2.1375  \n",
       "2002-03-08                                             2.2033  "
      ]
     },
     "execution_count": 18,
     "metadata": {},
     "output_type": "execute_result"
    }
   ],
   "source": [
    "print len(dfs), \"data frames scraped from excel file.\"\n",
    "dfs[0].head()"
   ]
  },
  {
   "cell_type": "code",
   "execution_count": 19,
   "metadata": {
    "collapsed": false
   },
   "outputs": [
    {
     "data": {
      "text/html": [
       "<div style=\"max-height:1000px;max-width:1500px;overflow:auto;\">\n",
       "<table border=\"1\" class=\"dataframe\">\n",
       "  <thead>\n",
       "    <tr style=\"text-align: right;\">\n",
       "      <th></th>\n",
       "      <th>Tipo de Cambio Nominal Promedio Mensual</th>\n",
       "    </tr>\n",
       "  </thead>\n",
       "  <tbody>\n",
       "    <tr>\n",
       "      <th>2002-03</th>\n",
       "      <td>2.398856</td>\n",
       "    </tr>\n",
       "    <tr>\n",
       "      <th>2002-04</th>\n",
       "      <td>2.855106</td>\n",
       "    </tr>\n",
       "    <tr>\n",
       "      <th>2002-05</th>\n",
       "      <td>3.328700</td>\n",
       "    </tr>\n",
       "    <tr>\n",
       "      <th>2002-06</th>\n",
       "      <td>3.621300</td>\n",
       "    </tr>\n",
       "    <tr>\n",
       "      <th>2002-07</th>\n",
       "      <td>3.607136</td>\n",
       "    </tr>\n",
       "  </tbody>\n",
       "</table>\n",
       "</div>"
      ],
      "text/plain": [
       "         Tipo de Cambio Nominal Promedio Mensual\n",
       "2002-03                                 2.398856\n",
       "2002-04                                 2.855106\n",
       "2002-05                                 3.328700\n",
       "2002-06                                 3.621300\n",
       "2002-07                                 3.607136"
      ]
     },
     "execution_count": 19,
     "metadata": {},
     "output_type": "execute_result"
    }
   ],
   "source": [
    "dfs[1].head()"
   ]
  },
  {
   "cell_type": "markdown",
   "metadata": {},
   "source": [
    "The default mode is the **fast mode**. It tries guessing combinations of the non specified parameters until it reaches the first successful result. If you want to be *absolutely sure* there is no other parameters combination that could yield a better result, you could run the **safe mode** (which is significantly slower)."
   ]
  },
  {
   "cell_type": "code",
   "execution_count": 20,
   "metadata": {
    "collapsed": true
   },
   "outputs": [],
   "source": [
    "dfs = xl.get_data_frames(params, True)"
   ]
  },
  {
   "cell_type": "code",
   "execution_count": 21,
   "metadata": {
    "collapsed": false
   },
   "outputs": [
    {
     "name": "stdout",
     "output_type": "stream",
     "text": [
      "2 data frames scraped from excel file.\n"
     ]
    },
    {
     "data": {
      "text/html": [
       "<div style=\"max-height:1000px;max-width:1500px;overflow:auto;\">\n",
       "<table border=\"1\" class=\"dataframe\">\n",
       "  <thead>\n",
       "    <tr style=\"text-align: right;\">\n",
       "      <th></th>\n",
       "      <th>Tipo de Cambio de Referencia - en Pesos - por Dolar</th>\n",
       "    </tr>\n",
       "  </thead>\n",
       "  <tbody>\n",
       "    <tr>\n",
       "      <th>2002-03-04</th>\n",
       "      <td>2.0083</td>\n",
       "    </tr>\n",
       "    <tr>\n",
       "      <th>2002-03-05</th>\n",
       "      <td>1.9917</td>\n",
       "    </tr>\n",
       "    <tr>\n",
       "      <th>2002-03-06</th>\n",
       "      <td>2.0508</td>\n",
       "    </tr>\n",
       "    <tr>\n",
       "      <th>2002-03-07</th>\n",
       "      <td>2.1375</td>\n",
       "    </tr>\n",
       "    <tr>\n",
       "      <th>2002-03-08</th>\n",
       "      <td>2.2033</td>\n",
       "    </tr>\n",
       "  </tbody>\n",
       "</table>\n",
       "</div>"
      ],
      "text/plain": [
       "            Tipo de Cambio de Referencia - en Pesos - por Dolar\n",
       "2002-03-04                                             2.0083  \n",
       "2002-03-05                                             1.9917  \n",
       "2002-03-06                                             2.0508  \n",
       "2002-03-07                                             2.1375  \n",
       "2002-03-08                                             2.2033  "
      ]
     },
     "execution_count": 21,
     "metadata": {},
     "output_type": "execute_result"
    }
   ],
   "source": [
    "print len(dfs), \"data frames scraped from excel file.\"\n",
    "dfs[0].head()"
   ]
  },
  {
   "cell_type": "markdown",
   "metadata": {},
   "source": [
    "All test cases in this package will return a unique result either in **fast** or **safe** mode (because they have guided the implementation!), but it could be the case that another excel file has something that fits in more than one possible parameter combination. The result would be a tuple `(results, results_parameters)` where `results` is a list of data frames lists `[[df1, df2], [df1, df2], ...]` and `results_parameters` is a list of `Parameters` that were used in each of the results `[params_a, params_b, ...]`."
   ]
  }
 ],
 "metadata": {
  "kernelspec": {
   "display_name": "Python 2",
   "language": "python",
   "name": "python2"
  },
  "language_info": {
   "codemirror_mode": {
    "name": "ipython",
    "version": 2
   },
   "file_extension": ".py",
   "mimetype": "text/x-python",
   "name": "python",
   "nbconvert_exporter": "python",
   "pygments_lexer": "ipython2",
   "version": "2.7.9"
  }
 },
 "nbformat": 4,
 "nbformat_minor": 0
}
