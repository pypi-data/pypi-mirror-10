{
 "metadata": {
  "name": "",
  "signature": "sha256:53f5ffbbccdd5d7a405c5ed7ee4926c4c2b9abc3d08f68cbd0e9e37db9ce2c78"
 },
 "nbformat": 3,
 "nbformat_minor": 0,
 "worksheets": [
  {
   "cells": [
    {
     "cell_type": "markdown",
     "metadata": {},
     "source": [
      "<h1>Capsul: Collaborative Analysis Platform : Simple, Unifying, Lean</h1>\n",
      "<div style=\"text-align: center\">Credit: Antoine Grigis</div>\n",
      "\n",
      "Capsul is a simple and efficient Python tool that aims to organize a set of processings.\n",
      "It is accessible to everybody, and is reusable in various contexts.\n",
      "The project is hosted on github: https://github.com/neurospin/capsul.<br><br>\n",
      "\n",
      "<big>Definitions</big>\n",
      "\n",
      "<ul style=\"list-style-type:disc;\">\n",
      "<li>A <b>Process</b> is a processing that can derived directly from a Python function and that can be used as a building block of a pipeline.</li>\n",
      "<li>A <b>Pipeline</b> is a serie of connected processes.</li>\n",
      "</ul><br>\n",
      "\n",
      "<big>First check</big>\n",
      "\n",
      "In order to test if capsul is installed on your machine, you can ask the the Capsul version:"
     ]
    },
    {
     "cell_type": "code",
     "collapsed": false,
     "input": [
      "import capsul\n",
      "print capsul.__version__"
     ],
     "language": "python",
     "metadata": {},
     "outputs": [
      {
       "output_type": "stream",
       "stream": "stdout",
       "text": [
        "1.0.0\n"
       ]
      }
     ],
     "prompt_number": 1
    },
    {
     "cell_type": "markdown",
     "metadata": {},
     "source": [
      "<h2>Use a function as a building block</h2>\n",
      "\n",
      "It is possible to convert a function in Process and thus use it as a building block of a pipeline. In the following example we will use the 'a_function_to_wrap' test function:\n",
      "\n"
     ]
    },
    {
     "cell_type": "code",
     "collapsed": false,
     "input": [
      "import inspect\n",
      "from capsul.utils.test.module import a_function_to_wrap\n",
      "\n",
      "print \"\".join(inspect.getsourcelines(a_function_to_wrap)[0])\n"
     ],
     "language": "python",
     "metadata": {},
     "outputs": [
      {
       "output_type": "stream",
       "stream": "stdout",
       "text": [
        "def a_function_to_wrap(fname, directory, value, enum, list_of_str, reference):\n",
        "    \"\"\" A dummy fucntion that just print all its parameters.\n",
        "\n",
        "    <process>\n",
        "        <return name=\"string\" type=\"Str\" desc=\"test\" />\n",
        "        <input name=\"fname\" type=\"File\" desc=\"test\" />\n",
        "        <input name=\"directory\" type=\"Directory\" desc=\"test\" />\n",
        "        <input name=\"value\" type=\"Float\" desc=\"test\" />\n",
        "        <input name=\"enum\" type=\"Str\" desc=\"test\" />\n",
        "        <input name=\"list_of_str\" type=\"List_Str\" desc=\"test\" />\n",
        "        <output name=\"reference\" type=\"List_Str\" desc=\"test\" optional=\"True\" />\n",
        "    </process>\n",
        "    \"\"\"\n",
        "    string = \"ALL FUNCTION PARAMETERS::\\n\\n\"\n",
        "    for input_parameter in (fname, directory, value, enum, list_of_str):\n",
        "        string += str(input_parameter)\n",
        "    reference.append(\"27\")\n",
        "    return string\n",
        "\n"
       ]
      }
     ],
     "prompt_number": 2
    },
    {
     "cell_type": "markdown",
     "metadata": {},
     "source": [
      "This is a pure Python function with the Process description in the docstring between the &lt;process&gt;...&lt;/process&gt; tags. Inside those tags, each returned and input parameters are described in the function order. The parameters are typed and a description is asked in order to generate proper tooltips or documentations. The 'reference' output parameter is optional.<br><br>\n",
      "\n",
      "We can now create a Process from this Python function:"
     ]
    },
    {
     "cell_type": "code",
     "collapsed": false,
     "input": [
      "from capsul.process import get_process_instance\n",
      "\n",
      "funcprocess = get_process_instance(\"capsul.utils.test.module.a_function_to_wrap\")\n",
      "funcprocess.help()"
     ],
     "language": "python",
     "metadata": {},
     "outputs": [
      {
       "output_type": "stream",
       "stream": "stdout",
       "text": [
        "\n",
        " A dummy fucntion that just print all its parameters.\n",
        "\n",
        "    \n",
        "\n",
        ".. note::\n",
        "\n",
        "    * Type 'AFunctionToWrap.help()' for a full description of this process parameters.\n",
        "    * Type '<AFunctionToWrap>.get_input_spec()' for a full description of this process input trait types.\n",
        "    * Type '<AFunctionToWrap>.get_output_spec()' for a full description of this process output trait types.\n",
        "\n",
        "\n",
        "This process has been wrapped from capsul.utils.test.module.a_function_to_wrap.\n",
        "\n",
        "Inputs\n",
        "~~~~~~\n",
        "\n",
        "[Mandatory]\n",
        "\n",
        "directory: a directory name (['Directory'] - mandatory)\n",
        "    test\n",
        "list_of_str: a legal value (['List_Str'] - mandatory)\n",
        "    test\n",
        "value: a float (['Float'] - mandatory)\n",
        "    test\n",
        "enum: a string (['Str'] - mandatory)\n",
        "    test\n",
        "fname: a file name (['File'] - mandatory)\n",
        "    test\n",
        "\n",
        "Outputs\n",
        "~~~~~~~\n",
        "\n",
        "string: a string\n",
        "    test\n",
        "reference: a legal value\n",
        "    test\n",
        "\n"
       ]
      }
     ],
     "prompt_number": 3
    },
    {
     "cell_type": "markdown",
     "metadata": {},
     "source": [
      "We can modify some input parameters and execute the process:"
     ]
    },
    {
     "cell_type": "code",
     "collapsed": false,
     "input": [
      "funcprocess.list_of_str = [\"a\", \"b\"]\n",
      "funcprocess.value = 4.3\n",
      "funcprocess.enum = \"c\"\n",
      "result = funcprocess()\n",
      "print funcprocess.string\n",
      "print funcprocess.reference"
     ],
     "language": "python",
     "metadata": {},
     "outputs": [
      {
       "output_type": "stream",
       "stream": "stdout",
       "text": [
        "ALL FUNCTION PARAMETERS::\n",
        "\n",
        "4.3c['a', 'b']\n",
        "['27']\n"
       ]
      }
     ],
     "prompt_number": 4
    },
    {
     "cell_type": "markdown",
     "metadata": {},
     "source": [
      "<h2>Defining a Pipeline</h2>\n",
      "\n",
      "A Pipeline can be described from an xml file. For the documentation of the description glossary, please refere to the capsul documentation. In the following example we will use the 'xml_pipeline.xml' test description:"
     ]
    },
    {
     "cell_type": "code",
     "collapsed": false,
     "input": [
      "import os\n",
      "import capsul.utils.test as test\n",
      "\n",
      "xmldesc = os.path.join(os.path.dirname(test.__file__), \"xml_pipeline.xml\")\n",
      "with open(xmldesc, \"r\") as openfile:\n",
      "    print \"\".join(openfile.readlines())"
     ],
     "language": "python",
     "metadata": {},
     "outputs": [
      {
       "output_type": "stream",
       "stream": "stdout",
       "text": [
        "<pipeline>\n",
        "    <docstring>\n",
        "        Auto Generated Pipeline Test\n",
        "    </docstring>\n",
        "    <processes>\n",
        "        <standard name=\"p1\">\n",
        "            <module>capsul.utils.test.process.AFunctionToWrap</module>\n",
        "            <force name=\"reference\" value=\"['test']\"/>\n",
        "        </standard>\n",
        "        <standard name=\"p2\">\n",
        "            <module>capsul.utils.test.process.AFunctionToWrap</module>\n",
        "        </standard>\n",
        "    </processes>\n",
        "    <links>\n",
        "        <link src=\"p1.string\" dest=\"p2.fname\"/>\n",
        "        <link src=\"pdirectory\" dest=\"p2.directory\"/>\n",
        "        <link src=\"value\" dest=\"p2.value\"/>\n",
        "        <link src=\"enum\" dest=\"p2.enum\"/>\n",
        "        <link src=\"list_of_str\" dest=\"p2.list_of_str\"/>\n",
        "    </links>\n",
        "    <inputs>\n",
        "        <input name=\"value\" dest=\"p1.value\"/>\n",
        "        <input name=\"enum\" dest=\"p1.enum\"/>\n",
        "        <input name=\"list_of_str\" dest=\"p1.list_of_str\"/>\n",
        "        <input name=\"pdirectory\" dest=\"p1.directory\"/>\n",
        "    </inputs>\n",
        "    <outputs>\n",
        "        <output name=\"out1\" src=\"p2.string\"/>\n",
        "        <output name=\"out2\" src=\"p2.reference\"/>\n",
        "    </outputs>\n",
        "    <positions>\n",
        "        <position process=\"inputs\" x=\"0\" y=\"0\"/>\n",
        "        <position process=\"p1\" x=\"200\" y=\"200\"/>\n",
        "        <position process=\"p2\" x=\"400\" y=\"-200\"/>\n",
        "        <position process=\"outputs\" x=\"600\" y=\"0\"/>\n",
        "    </positions>\n",
        "    <scale factor=\"1\"/> \n",
        "</pipeline>\n",
        "\n"
       ]
      }
     ],
     "prompt_number": 5
    },
    {
     "cell_type": "markdown",
     "metadata": {},
     "source": [
      "Two building blocks are connected in this example. We will soon have a graphical representation of the pipeline, which in turn will clarify the xml sections. But first we must create a Pipeline from this xml description:"
     ]
    },
    {
     "cell_type": "code",
     "collapsed": false,
     "input": [
      "from capsul.process import get_process_instance\n",
      "\n",
      "xmlpipe = get_process_instance(\"capsul.utils.test.module.xml_pipeline.xml\")\n",
      "xmlpipe.help()"
     ],
     "language": "python",
     "metadata": {},
     "outputs": [
      {
       "output_type": "stream",
       "stream": "stdout",
       "text": [
        "\n",
        "Auto Generated Pipeline Test\n",
        "\n",
        ".. note::\n",
        "\n",
        "    * Type 'XmlPipeline.help()' for a full description of this process parameters.\n",
        "    * Type '<XmlPipeline>.get_input_spec()' for a full description of this process input trait types.\n",
        "    * Type '<XmlPipeline>.get_output_spec()' for a full description of this process output trait types.\n",
        "\n",
        "\n",
        "Inputs\n",
        "~~~~~~\n",
        "\n",
        "[Mandatory]\n",
        "\n",
        "enum: a string (['Str'] - mandatory)\n",
        "    test\n",
        "pdirectory: a directory name (['Directory'] - mandatory)\n",
        "    test\n",
        "value: a float (['Float'] - mandatory)\n",
        "    test\n",
        "list_of_str: a legal value (['List_Str'] - mandatory)\n",
        "    test\n",
        "fname: a file name (['File'] - mandatory)\n",
        "    test\n",
        "nodes_activation: a Controller or None (['Instance_Controller',\n",
        "    'Instance_HasTraits', 'Instance_CHasTraits', 'Instance_object'] -\n",
        "    mandatory)\n",
        "    No description.\n",
        "\n",
        "Outputs\n",
        "~~~~~~~\n",
        "\n",
        "out1: a string\n",
        "    test\n",
        "out2: a legal value\n",
        "    test\n",
        "\n"
       ]
      }
     ],
     "prompt_number": 6
    },
    {
     "cell_type": "markdown",
     "metadata": {},
     "source": [
      "One major advantage of the capsul pipeline system is to be able to represent graphically the processing sequence:"
     ]
    },
    {
     "cell_type": "code",
     "collapsed": false,
     "input": [
      "import sys\n",
      "from PyQt4 import QtGui\n",
      "from capsul.qt_gui.widgets import PipelineDevelopperView\n",
      "from capsul.qt_gui.controller_widget import ControllerWidget\n",
      "\n",
      "app_created = False\n",
      "app = QtGui.QApplication.instance()\n",
      "if app is None:\n",
      "    app = QtGui.QApplication(sys.argv)\n",
      "    app_created = True\n",
      "view = PipelineDevelopperView(xmlpipe)\n",
      "controller = ControllerWidget(xmlpipe, live=True)\n",
      "view.show()\n",
      "controller.show()\n",
      "if app_created:\n",
      "    app.exec_()"
     ],
     "language": "python",
     "metadata": {},
     "outputs": [],
     "prompt_number": 12
    },
    {
     "cell_type": "markdown",
     "metadata": {},
     "source": [
      "<h2>A structure to switch between processings</h2>\n",
      "\n",
      "In Capsul it is possible to define a building block which aims to select a sequence of processings. It is done with a Switch building block as follows:\n",
      "\n"
     ]
    },
    {
     "cell_type": "code",
     "collapsed": false,
     "input": [
      "import os\n",
      "import capsul.utils.test as test\n",
      "\n",
      "xmldesc = os.path.join(os.path.dirname(test.__file__), \"xml_switch_pipeline.xml\")\n",
      "with open(xmldesc, \"r\") as openfile:\n",
      "    print \"\".join(openfile.readlines())"
     ],
     "language": "python",
     "metadata": {},
     "outputs": [
      {
       "output_type": "stream",
       "stream": "stdout",
       "text": [
        "<pipeline>\n",
        "    <docstring>\n",
        "        Auto Generated Pipeline Test\n",
        "    </docstring>\n",
        "    <processes>\n",
        "        <standard name=\"p1\">\n",
        "            <module>capsul.utils.test.process.AFunctionToWrap</module>\n",
        "        </standard>\n",
        "        <standard name=\"p2\">\n",
        "            <module>capsul.utils.test.process.AFunctionToWrap</module>\n",
        "        </standard>\n",
        "        <switch name=\"switch_p1_p2\">\n",
        "            <input>p1</input>\n",
        "            <input>p2</input>\n",
        "            <output>string</output>\n",
        "        </switch>\n",
        "    </processes>\n",
        "    <links>\n",
        "        <link src=\"fname\" dest=\"p2.fname\"/>\n",
        "        <link src=\"pdirectory\" dest=\"p2.directory\"/>\n",
        "        <link src=\"value\" dest=\"p2.value\"/>\n",
        "        <link src=\"enum\" dest=\"p2.enum\"/>\n",
        "        <link src=\"list_of_str\" dest=\"p2.list_of_str\"/>\n",
        "        <link src=\"p1.string\" dest=\"switch_p1_p2.p1_switch_string\"/>\n",
        "        <link src=\"p2.string\" dest=\"switch_p1_p2.p2_switch_string\"/>\n",
        "    </links>\n",
        "    <inputs>\n",
        "        <input name=\"fname\" dest=\"p1.fname\"/>\n",
        "        <input name=\"value\" dest=\"p1.value\"/>\n",
        "        <input name=\"enum\" dest=\"p1.enum\"/>\n",
        "        <input name=\"list_of_str\" dest=\"p1.list_of_str\"/>\n",
        "        <input name=\"pdirectory\" dest=\"p1.directory\"/>\n",
        "    </inputs>\n",
        "    <outputs>\n",
        "        <output name=\"out1\" src=\"switch_p1_p2.string\"/>\n",
        "    </outputs>\n",
        "    <positions>\n",
        "        <position process=\"inputs\" x=\"0\" y=\"0\"/>\n",
        "        <position process=\"p1\" x=\"200\" y=\"200\"/>\n",
        "        <position process=\"p2\" x=\"200\" y=\"-200\"/>\n",
        "        <position process=\"switch_p1_p2\" x=\"400\" y=\"0\"/>\n",
        "        <position process=\"outputs\" x=\"600\" y=\"0\"/>\n",
        "    </positions>\n",
        "    <scale factor=\"0.75\"/> \n",
        "</pipeline>\n",
        "\n"
       ]
      }
     ],
     "prompt_number": 13
    },
    {
     "cell_type": "markdown",
     "metadata": {},
     "source": [
      "Again we can create a Pipeline from his xml description:"
     ]
    },
    {
     "cell_type": "code",
     "collapsed": false,
     "input": [
      "from capsul.process import get_process_instance\n",
      "\n",
      "xmlpipe = get_process_instance(\"capsul.utils.test.module.xml_switch_pipeline.xml\")\n",
      "xmlpipe.help()"
     ],
     "language": "python",
     "metadata": {},
     "outputs": [
      {
       "output_type": "stream",
       "stream": "stdout",
       "text": [
        "\n",
        "Auto Generated Pipeline Test\n",
        "\n",
        ".. note::\n",
        "\n",
        "    * Type 'XmlSwitchPipeline.help()' for a full description of this process parameters.\n",
        "    * Type '<XmlSwitchPipeline>.get_input_spec()' for a full description of this process input trait types.\n",
        "    * Type '<XmlSwitchPipeline>.get_output_spec()' for a full description of this process output trait types.\n",
        "\n",
        "\n",
        "Inputs\n",
        "~~~~~~\n",
        "\n",
        "[Mandatory]\n",
        "\n",
        "list_of_str: a legal value (['List_Str'] - mandatory)\n",
        "    test\n",
        "enum: a string (['Str'] - mandatory)\n",
        "    test\n",
        "value: a float (['Float'] - mandatory)\n",
        "    test\n",
        "fname: a file name (['File'] - mandatory)\n",
        "    test\n",
        "switch_p1_p2: a legal value (['Enum'] - mandatory)\n",
        "    No description.\n",
        "nodes_activation: a Controller or None (['Instance_Controller',\n",
        "    'Instance_HasTraits', 'Instance_CHasTraits', 'Instance_object'] -\n",
        "    mandatory)\n",
        "    No description.\n",
        "pdirectory: a directory name (['Directory'] - mandatory)\n",
        "    test\n",
        "\n",
        "Outputs\n",
        "~~~~~~~\n",
        "\n",
        "out1: any value\n",
        "    No description.\n",
        "\n"
       ]
      }
     ],
     "prompt_number": 14
    },
    {
     "cell_type": "markdown",
     "metadata": {},
     "source": [
      "And generate his graphical representation:"
     ]
    },
    {
     "cell_type": "code",
     "collapsed": false,
     "input": [
      "import sys\n",
      "from PyQt4 import QtGui\n",
      "from capsul.qt_gui.widgets import PipelineDevelopperView\n",
      "from capsul.qt_gui.controller_widget import ControllerWidget\n",
      "\n",
      "if \"app_created\" not in globals():\n",
      "    app_created = False\n",
      "app = QtGui.QApplication.instance()\n",
      "if app is None:\n",
      "    app = QtGui.QApplication(sys.argv)\n",
      "    app_created = True\n",
      "view = PipelineDevelopperView(xmlpipe)\n",
      "controller = ControllerWidget(xmlpipe, live=True)\n",
      "view.show()\n",
      "controller.show()\n",
      "if app_created:\n",
      "    app.exec_()"
     ],
     "language": "python",
     "metadata": {},
     "outputs": [],
     "prompt_number": 17
    },
    {
     "cell_type": "markdown",
     "metadata": {},
     "source": [
      "<h2>Use Nipype in Capsul</h2>\n",
      "\n",
      "It is possible to use all the nipype interfaces (FSL, SPM, FreeSurfer, ...) as building blocks in Capsul. This step requires nipype to be properly installed as well as the software we want to use. For instance if we want to perform a brain extraction with FSL we can simply write:"
     ]
    },
    {
     "cell_type": "code",
     "collapsed": false,
     "input": [
      "from capsul.process import get_process_instance\n",
      "\n",
      "betpipe = get_process_instance(\"nipype.interfaces.fsl.BET\")\n",
      "betpipe.get_help()\n",
      "betpipe.in_file=\"/neurospin/tmp/agrigis/demo/MNI152_T1_2mm.nii.gz\""
     ],
     "language": "python",
     "metadata": {},
     "outputs": [
      {
       "output_type": "stream",
       "stream": "stdout",
       "text": [
        "\n",
        " Base class used to wrap nipype interfaces.\n",
        "    \n",
        "\n",
        ".. note::\n",
        "\n",
        "    * Type 'NipypeProcess.help()' for a full description of this process parameters.\n",
        "    * Type '<NipypeProcess>.get_input_spec()' for a full description of this process input trait types.\n",
        "    * Type '<NipypeProcess>.get_output_spec()' for a full description of this process output trait types.\n",
        "\n",
        "\n",
        "Inputs\n",
        "~~~~~~\n",
        "\n",
        "[Mandatory]\n",
        "\n",
        "terminal_output: a legal value (['Enum'] - mandatory)\n",
        "    Control terminal output: `stream` - displays to terminal\n",
        "    immediately, `allatonce` - waits till command is finished to\n",
        "    display output, `file` - writes output to file, `none` - output is\n",
        "    ignored\n",
        "in_file: a file name (['File'] - mandatory)\n",
        "    input file to skull strip\n",
        "\n",
        "[Optional]\n",
        "\n",
        "remove_eyes: a boolean (['Bool'] - optional)\n",
        "    eye & optic nerve cleanup (can be useful in SIENA)\n",
        "no_output: a boolean (['Bool'] - optional)\n",
        "    Don't generate segmented output\n",
        "functional: a boolean (['Bool'] - optional)\n",
        "    apply to 4D fMRI data\n",
        "radius: an integer (['Int'] - optional)\n",
        "    head radius\n",
        "threshold: a boolean (['Bool'] - optional)\n",
        "    apply thresholding to segmented brain image and mask\n",
        "vertical_gradient: a float (['Float'] - optional)\n",
        "    vertical gradient in fractional intensity threshold (-1, 1)\n",
        "outline: a boolean (['Bool'] - optional)\n",
        "    create surface outline image\n",
        "t2_guided: a file name (['File'] - optional)\n",
        "    as with creating surfaces, when also feeding in non-brain-\n",
        "    extracted T2 (includes registrations)\n",
        "ignore_exception: a boolean (['Bool'] - optional)\n",
        "    Print an error message instead of throwing an exception in case\n",
        "    the interface fails to run\n",
        "surfaces: a boolean (['Bool'] - optional)\n",
        "    run bet2 and then betsurf to get additional skull and scalp\n",
        "    surfaces (includes registrations)\n",
        "frac: a float (['Float'] - optional)\n",
        "    fractional intensity threshold\n",
        "reduce_bias: a boolean (['Bool'] - optional)\n",
        "    bias field and neck cleanup\n",
        "args: a string (['Str'] - optional)\n",
        "    Additional parameters to the command\n",
        "output_directory: a directory name (['Directory'] - optional)\n",
        "    No description.\n",
        "padding: a boolean (['Bool'] - optional)\n",
        "    improve BET if FOV is very small in Z (by temporarily padding end\n",
        "    slices)\n",
        "mesh: a boolean (['Bool'] - optional)\n",
        "    generate a vtk mesh brain surface\n",
        "robust: a boolean (['Bool'] - optional)\n",
        "    robust brain centre estimation (iterates BET several times)\n",
        "out_file: a file name (['File'] - optional)\n",
        "    name of output skull stripped image\n",
        "center: a legal value (['List_Int'] - optional)\n",
        "    center of gravity in voxels\n",
        "skull: a boolean (['Bool'] - optional)\n",
        "    create skull image\n",
        "mask: a boolean (['Bool'] - optional)\n",
        "    create binary mask image\n",
        "environ: a legal value (['Dict_Str_Str'] - optional)\n",
        "    Environment variables\n",
        "output_type: a legal value (['Enum'] - optional)\n",
        "    FSL output type\n",
        "\n",
        "Outputs\n",
        "~~~~~~~\n",
        "\n",
        "_outskull_mesh_file: a file name\n",
        "    path/name of outskull mesh outline (if generated)\n",
        "_outskin_mesh_file: a file name\n",
        "    path/name of outskin mesh outline (if generated)\n",
        "_skull_mask_file: a file name\n",
        "    path/name of skull mask (if generated)\n",
        "_inskull_mask_file: a file name\n",
        "    path/name of inskull mask (if generated)\n",
        "_meshfile: a file name\n",
        "    path/name of vtk mesh file (if generated)\n",
        "_out_file: a file name\n",
        "    path/name of skullstripped file (if generated)\n",
        "_outline_file: a file name\n",
        "    path/name of outline file (if generated)\n",
        "_inskull_mesh_file: a file name\n",
        "    path/name of inskull mesh outline (if generated)\n",
        "_outskin_mask_file: a file name\n",
        "    path/name of outskin mask (if generated)\n",
        "_outskull_mask_file: a file name\n",
        "    path/name of outskull mask (if generated)\n",
        "_mask_file: a file name\n",
        "    path/name of binary brain mask (if generated)\n",
        "\n"
       ]
      },
      {
       "output_type": "stream",
       "stream": "stderr",
       "text": [
        "/home/ag239446/.local/lib/python2.7/site-packages/nipype/interfaces/fsl/base.py:118: UserWarning: FSL environment variables not set. setting output type to NIFTI\n",
        "  warnings.warn(('FSL environment variables not set. setting output '\n"
       ]
      }
     ],
     "prompt_number": 18
    },
    {
     "cell_type": "markdown",
     "metadata": {},
     "source": [
      "As shown it is possible to set the BET algorithm input parameters. Note that in capsul the standard nipype outputs are prefixed with underscores. We can execute this Process but unfortunatelly, as mentioned by the nipype warnings, FSL has not been configured and the BET algorithm will not run. The following section shows a simplified way to configure external softwares in Capsul."
     ]
    },
    {
     "cell_type": "markdown",
     "metadata": {},
     "source": [
      "<h2>A helper to configure state of the art medical softwares</h2>\n",
      "\n",
      "Capsul propose a module to configure external softwares:\n",
      "\n",
      "<ul style=\"list-style-type:disc;\">\n",
      "<li>FSL</li>\n",
      "<li>SPM</li>\n",
      "<li>FreeSurfer</li>\n",
      "<li>BrainVisa</li>\n",
      "</ul>\n",
      "\n",
      "With this module it is also possible to configure the execution of the pipeline:\n",
      "\n",
      "<ul style=\"list-style-type:disc;\">\n",
      "<li>Use smart caching</li>\n",
      "<li>Generate some logging</li>\n",
      "<li>Soma-Worflow to handle population imaging</li>\n",
      "</ul>\n",
      "\n",
      "Let show how to configure FSL:"
     ]
    },
    {
     "cell_type": "code",
     "collapsed": false,
     "input": [
      "from capsul.study_config import StudyConfig\n",
      "\n",
      "study_config = StudyConfig(\n",
      "    modules=[\"SmartCachingConfig\", \"FSLConfig\"],\n",
      "    fsl_config=\"/etc/fsl/4.1/fsl.sh\",\n",
      "    use_fsl=True,\n",
      "    use_smart_caching=True,\n",
      "    output_directory=\"/neurospin/tmp/agrigis/demo\")\n",
      "print study_config.run.__doc__"
     ],
     "language": "python",
     "metadata": {},
     "outputs": [
      {
       "output_type": "stream",
       "stream": "stdout",
       "text": [
        " Method to execute a process or a pipline in a study configuration\n",
        "         environment.\n",
        "\n",
        "         Only pipeline nodes can be filtered on the 'executer_qc_nodes'\n",
        "         attribute.\n",
        "\n",
        "         A valid output directory is exepcted to execute the process or the\n",
        "         pepeline without soma-workflow.\n",
        "\n",
        "        Parameters\n",
        "        ----------\n",
        "        process_or_pipeline: Process or Pipeline instance (mandatory)\n",
        "            the process or pipeline we want to execute\n",
        "        execute_qc_nodes: bool (optional, default False)\n",
        "            if True execute process nodes that are taged as qualtity control\n",
        "            process nodes.\n",
        "        verbose: int\n",
        "            if different from zero, print console messages.\n",
        "        \n"
       ]
      }
     ],
     "prompt_number": 12
    },
    {
     "cell_type": "markdown",
     "metadata": {},
     "source": [
      "<h2>Execution of the pipeline</h2>\n",
      "\n",
      "In this section a simple execution is performed on your machine using one CPU (if more than one CPU are used it means that the called external software is parallelized). We just have to call the StudyConfig run method:"
     ]
    },
    {
     "cell_type": "code",
     "collapsed": false,
     "input": [
      "study_config.reset_process_counter()\n",
      "study_config.run(betpipe, verbose=1)"
     ],
     "language": "python",
     "metadata": {},
     "outputs": [
      {
       "output_type": "stream",
       "stream": "stdout",
       "text": [
        "[Memory]: Loading nipype.interfaces.fsl.preprocess.BET(remove_eyes=False, no_output=False, functional=False, radius=0, threshold=False, surfaces=False, in_file=/neurospin/tmp/agrigis/demo/MNI152_T1_2mm.nii.gz, ignore_exception=False, vertical_gradient=0.0, frac=0.0, reduce_bias=False, args=, output_directory=/neurospin/tmp/agrigis/demo/1-BET, padding=False, mesh=False, robust=False, outline=False, center=[], skull=False, mask=False, terminal_output=stream, environ={}, output_type=NIFTI_PAIR)...\n"
       ]
      }
     ],
     "prompt_number": 14
    },
    {
     "cell_type": "markdown",
     "metadata": {},
     "source": [
      "<h2>Distributed execution top handle population imaging</h2>\n",
      "\n",
      "Capsul can execute a pipeline through Soma-Workflow in order to address huge datasets in the case of population imaging studies. But this functionality is out of the scope of this tuto."
     ]
    }
   ],
   "metadata": {}
  }
 ]
}