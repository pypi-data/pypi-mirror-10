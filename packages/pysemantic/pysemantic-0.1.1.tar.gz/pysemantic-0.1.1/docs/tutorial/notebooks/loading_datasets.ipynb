{
 "cells": [
  {
   "cell_type": "markdown",
   "metadata": {},
   "source": [
    "What we did last time\n",
    "------------------------\n",
    "\n",
    "1. Specified the data type of a column\n",
    "2. Parsed timestamps into Pythonic timestamps\n",
    "3. Dropped outliers from a numerical array\n",
    "4. Checked text for valid email addresses"
   ]
  },
  {
   "cell_type": "code",
   "execution_count": 1,
   "metadata": {
    "collapsed": true
   },
   "outputs": [],
   "source": [
    "from pysemantic import Project\n",
    "import numpy as np"
   ]
  },
  {
   "cell_type": "code",
   "execution_count": 2,
   "metadata": {
    "collapsed": true
   },
   "outputs": [],
   "source": [
    "demo = Project(\"demo\")"
   ]
  },
  {
   "cell_type": "code",
   "execution_count": 3,
   "metadata": {
    "collapsed": true
   },
   "outputs": [],
   "source": [
    "data = demo.load_dataset(\"dummy_data\")"
   ]
  },
  {
   "cell_type": "code",
   "execution_count": 4,
   "metadata": {
    "collapsed": false
   },
   "outputs": [
    {
     "data": {
      "text/html": [
       "<div style=\"max-height:1000px;max-width:1500px;overflow:auto;\">\n",
       "<table border=\"1\" class=\"dataframe\">\n",
       "  <thead>\n",
       "    <tr style=\"text-align: right;\">\n",
       "      <th></th>\n",
       "      <th>date</th>\n",
       "      <th>zip</th>\n",
       "      <th>X</th>\n",
       "      <th>email</th>\n",
       "    </tr>\n",
       "  </thead>\n",
       "  <tbody>\n",
       "    <tr>\n",
       "      <th>0</th>\n",
       "      <td>2015-02-21 01:05:03</td>\n",
       "      <td>13611</td>\n",
       "      <td>5.014501</td>\n",
       "      <td>jeff.dasovich@enron.com</td>\n",
       "    </tr>\n",
       "    <tr>\n",
       "      <th>2</th>\n",
       "      <td>2015-02-27 10:16:34</td>\n",
       "      <td>02888</td>\n",
       "      <td>8.918459</td>\n",
       "      <td>karen.denne@enron.com</td>\n",
       "    </tr>\n",
       "    <tr>\n",
       "      <th>3</th>\n",
       "      <td>2015-02-20 19:11:00</td>\n",
       "      <td>07827</td>\n",
       "      <td>5.664665</td>\n",
       "      <td>enron-owner@lists.qgadc.com</td>\n",
       "    </tr>\n",
       "    <tr>\n",
       "      <th>4</th>\n",
       "      <td>2015-02-21 13:20:11</td>\n",
       "      <td>23887</td>\n",
       "      <td>6.159554</td>\n",
       "      <td>jeff.dasovich@enron.com</td>\n",
       "    </tr>\n",
       "    <tr>\n",
       "      <th>5</th>\n",
       "      <td>2015-02-22 04:17:01</td>\n",
       "      <td>35461</td>\n",
       "      <td>5.618556</td>\n",
       "      <td>jeff.dasovich@enron.com</td>\n",
       "    </tr>\n",
       "  </tbody>\n",
       "</table>\n",
       "</div>"
      ],
      "text/plain": [
       "                 date    zip         X                        email\n",
       "0 2015-02-21 01:05:03  13611  5.014501      jeff.dasovich@enron.com\n",
       "2 2015-02-27 10:16:34  02888  8.918459        karen.denne@enron.com\n",
       "3 2015-02-20 19:11:00  07827  5.664665  enron-owner@lists.qgadc.com\n",
       "4 2015-02-21 13:20:11  23887  6.159554      jeff.dasovich@enron.com\n",
       "5 2015-02-22 04:17:01  35461  5.618556      jeff.dasovich@enron.com"
      ]
     },
     "execution_count": 4,
     "metadata": {},
     "output_type": "execute_result"
    }
   ],
   "source": [
    "data.head()"
   ]
  },
  {
   "cell_type": "code",
   "execution_count": 5,
   "metadata": {
    "collapsed": false
   },
   "outputs": [
    {
     "name": "stdout",
     "output_type": "stream",
     "text": [
      "date datetime64[ns]\n",
      "zip object\n",
      "X float64\n",
      "email object\n"
     ]
    }
   ],
   "source": [
    "for column in data:\n",
    "    print column, data[column].dtype"
   ]
  },
  {
   "cell_type": "code",
   "execution_count": 6,
   "metadata": {
    "collapsed": false
   },
   "outputs": [
    {
     "name": "stdout",
     "output_type": "stream",
     "text": [
      "False\n"
     ]
    }
   ],
   "source": [
    "zip_lengths = data['zip'].apply(len)\n",
    "print np.any(zip_lengths != 5)"
   ]
  },
  {
   "cell_type": "code",
   "execution_count": 7,
   "metadata": {
    "collapsed": false
   },
   "outputs": [
    {
     "name": "stdout",
     "output_type": "stream",
     "text": [
      "8.99728774235\n"
     ]
    }
   ],
   "source": [
    "print data['X'].max()"
   ]
  }
 ],
 "metadata": {
  "kernelspec": {
   "display_name": "Python 2",
   "language": "python",
   "name": "python2"
  },
  "language_info": {
   "codemirror_mode": {
    "name": "ipython",
    "version": 2
   },
   "file_extension": ".py",
   "mimetype": "text/x-python",
   "name": "python",
   "nbconvert_exporter": "python",
   "pygments_lexer": "ipython2",
   "version": "2.7.9"
  }
 },
 "nbformat": 4,
 "nbformat_minor": 0
}
